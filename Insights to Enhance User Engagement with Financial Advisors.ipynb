{
 "cells": [
  {
   "cell_type": "markdown",
   "id": "7c249d9b",
   "metadata": {},
   "source": [
    "# Industry Project Scotiabank\n",
    "**Data Extraction and Analysis**  \n",
    "**Author:** Sundus Yawar  \n",
    "**Objective:** Extract reviews relevant to financial advisors and gather insights about issues users are having, so we can enhance customer experience with them. "
   ]
  },
  {
   "cell_type": "markdown",
   "id": "bf32e10a",
   "metadata": {},
   "source": [
    "# Overview\n",
    "- Analyzed issues with the current software solution for matching clients to advisor\n",
    "- Scraped reviews where customers talked about their challenges with financial advisory services \n",
    "- Called Scotiabank to get better understanding of the problems users mentioned in the reviews\n",
    "- Recommended solutions some of which we implemented and others are part of our vision for future"
   ]
  },
  {
   "cell_type": "markdown",
   "id": "2b15a619",
   "metadata": {},
   "source": [
    "# Webscraping Reviews for Analysis"
   ]
  },
  {
   "cell_type": "code",
   "execution_count": 4,
   "id": "798ce012",
   "metadata": {},
   "outputs": [],
   "source": [
    "import requests\n",
    "from bs4 import BeautifulSoup"
   ]
  },
  {
   "cell_type": "code",
   "execution_count": 32,
   "id": "c51d8c0b",
   "metadata": {},
   "outputs": [],
   "source": [
    "# base url\n",
    "base_url = \"https://ca.trustpilot.com/review/scotiabank.com\"\n",
    "ratings = []\n",
    "reviews = []\n",
    "\n",
    "for page in range(1,40):\n",
    "    # Form url for pagination\n",
    "    url = f\"{base_url}?page={page}\"\n",
    "    # Send an HTTP GET request to the URL\n",
    "    response = requests.get(url)\n",
    "\n",
    "    soup = BeautifulSoup(response.text, \"html.parser\")\n",
    "\n",
    "    # Locate all review card elements\n",
    "    review_cards = soup.find_all(\"div\", class_=\"styles_cardWrapper__LcCPA styles_show__HUXRb styles_reviewCard__9HxJJ\")\n",
    "    \n",
    "\n",
    "    for review_card in review_cards:\n",
    "        # Extract Rating\n",
    "        review_score_element = review_card.find(\"div\", class_=\"styles_reviewHeader__iU9Px\")\n",
    "        review_score = int(review_score_element[\"data-service-review-rating\"])\n",
    "        ratings.append(review_score)\n",
    "\n",
    "\n",
    "        # Extract Review Content\n",
    "        review_element = review_card.find(\"p\", class_=\"typography_body-l__KUYFJ typography_appearance-default__AAY17 typography_color-black__5LYEn\")\n",
    "        review = review_element.get_text(strip=True)if review_element else None\n",
    "        reviews.append(review)"
   ]
  },
  {
   "cell_type": "code",
   "execution_count": 76,
   "id": "e7080db3",
   "metadata": {},
   "outputs": [],
   "source": [
    "from datetime import datetime\n",
    "\n",
    "# base url\n",
    "base_url = \"https://ca.trustpilot.com/review/scotiabank.com\"\n",
    "ratings = []\n",
    "reviews = []\n",
    "review_date = [] \n",
    "\n",
    "for page in range(1,40):\n",
    "    # Form url for pagination\n",
    "    url = f\"{base_url}?page={page}\"\n",
    "    # Send an HTTP GET request to the URL\n",
    "    response = requests.get(url)\n",
    "\n",
    "    soup = BeautifulSoup(response.text, \"html.parser\")\n",
    "\n",
    "    # Locate all review card elements\n",
    "    review_cards = soup.find_all(\"div\", class_=\"styles_cardWrapper__LcCPA styles_show__HUXRb styles_reviewCard__9HxJJ\")\n",
    "    \n",
    "\n",
    "    for review_card in review_cards:\n",
    "        # Extract Rating\n",
    "        review_score_element = review_card.find(\"div\", class_=\"styles_reviewHeader__iU9Px\")\n",
    "        review_score = int(review_score_element[\"data-service-review-rating\"])\n",
    "        ratings.append(review_score)\n",
    "\n",
    "\n",
    "        # Extract Review Content\n",
    "        review_element = review_card.find(\"p\", class_=\"typography_body-l__KUYFJ typography_appearance-default__AAY17 typography_color-black__5LYEn\")\n",
    "        if review_element:\n",
    "            review = review_element.get_text(strip=True)\n",
    "            reviews.append(review)\n",
    "        else: \n",
    "            reviews.append(None)\n",
    "        \n",
    "        date_element = review_card.find(\"time\", class_=\"\", datetime=True)\n",
    "        if date_element:\n",
    "            date_string = date_element[\"datetime\"]\n",
    "            date_object = datetime.strptime(date_string, '%Y-%m-%dT%H:%M:%S.%fZ')\n",
    "            formatted_date = date_object.strftime('%B %d, %Y')\n",
    "            review_date.append(formatted_date)\n",
    "        else:\n",
    "            review_date.append(None)  # Handle cases where the date is not found"
   ]
  },
  {
   "cell_type": "code",
   "execution_count": 77,
   "id": "c5dc0c4f",
   "metadata": {},
   "outputs": [
    {
     "data": {
      "text/plain": [
       "769"
      ]
     },
     "execution_count": 77,
     "metadata": {},
     "output_type": "execute_result"
    }
   ],
   "source": [
    "len(ratings)"
   ]
  },
  {
   "cell_type": "code",
   "execution_count": 78,
   "id": "878c854b",
   "metadata": {},
   "outputs": [
    {
     "data": {
      "text/plain": [
       "769"
      ]
     },
     "execution_count": 78,
     "metadata": {},
     "output_type": "execute_result"
    }
   ],
   "source": [
    "len(reviews)"
   ]
  },
  {
   "cell_type": "code",
   "execution_count": 79,
   "id": "096c5e18",
   "metadata": {},
   "outputs": [
    {
     "data": {
      "text/plain": [
       "769"
      ]
     },
     "execution_count": 79,
     "metadata": {},
     "output_type": "execute_result"
    }
   ],
   "source": [
    "len(review_date)"
   ]
  },
  {
   "cell_type": "markdown",
   "id": "d8735ad3",
   "metadata": {},
   "source": [
    "On the website there are 831 reviews and I was able to extract 769 which isn't bad given that there are some reviews that have ratings only and no content. So, I got all the reviews with reviews text. Now I'll put this in a dataframe so I can perform analysis."
   ]
  },
  {
   "cell_type": "code",
   "execution_count": 80,
   "id": "92685141",
   "metadata": {},
   "outputs": [],
   "source": [
    "import pandas as pd\n",
    "# Putting data in data frame\n",
    "\n",
    "data = {\n",
    "    \"Ratings\": ratings,\n",
    "    \"Reviews\": reviews,\n",
    "    \"Date\": review_date\n",
    "}\n",
    "\n",
    "reviews_df = pd.DataFrame(data)"
   ]
  },
  {
   "cell_type": "code",
   "execution_count": 81,
   "id": "48ec4880",
   "metadata": {},
   "outputs": [
    {
     "data": {
      "text/html": [
       "<div>\n",
       "<style scoped>\n",
       "    .dataframe tbody tr th:only-of-type {\n",
       "        vertical-align: middle;\n",
       "    }\n",
       "\n",
       "    .dataframe tbody tr th {\n",
       "        vertical-align: top;\n",
       "    }\n",
       "\n",
       "    .dataframe thead th {\n",
       "        text-align: right;\n",
       "    }\n",
       "</style>\n",
       "<table border=\"1\" class=\"dataframe\">\n",
       "  <thead>\n",
       "    <tr style=\"text-align: right;\">\n",
       "      <th></th>\n",
       "      <th>Ratings</th>\n",
       "      <th>Reviews</th>\n",
       "      <th>Date</th>\n",
       "    </tr>\n",
       "  </thead>\n",
       "  <tbody>\n",
       "    <tr>\n",
       "      <th>0</th>\n",
       "      <td>1</td>\n",
       "      <td>I just moved from US to CA. This is by far the...</td>\n",
       "      <td>October 05, 2023</td>\n",
       "    </tr>\n",
       "    <tr>\n",
       "      <th>1</th>\n",
       "      <td>1</td>\n",
       "      <td>Call centres don’t want to do their work so th...</td>\n",
       "      <td>October 04, 2023</td>\n",
       "    </tr>\n",
       "    <tr>\n",
       "      <th>2</th>\n",
       "      <td>1</td>\n",
       "      <td>These crooks literally keep draining my accoun...</td>\n",
       "      <td>September 30, 2023</td>\n",
       "    </tr>\n",
       "    <tr>\n",
       "      <th>3</th>\n",
       "      <td>5</td>\n",
       "      <td>I am very pleased with Scotia bank customer se...</td>\n",
       "      <td>October 05, 2023</td>\n",
       "    </tr>\n",
       "    <tr>\n",
       "      <th>4</th>\n",
       "      <td>1</td>\n",
       "      <td>Would give 0 star if I could. Financial adviso...</td>\n",
       "      <td>September 30, 2023</td>\n",
       "    </tr>\n",
       "  </tbody>\n",
       "</table>\n",
       "</div>"
      ],
      "text/plain": [
       "   Ratings                                            Reviews  \\\n",
       "0        1  I just moved from US to CA. This is by far the...   \n",
       "1        1  Call centres don’t want to do their work so th...   \n",
       "2        1  These crooks literally keep draining my accoun...   \n",
       "3        5  I am very pleased with Scotia bank customer se...   \n",
       "4        1  Would give 0 star if I could. Financial adviso...   \n",
       "\n",
       "                 Date  \n",
       "0    October 05, 2023  \n",
       "1    October 04, 2023  \n",
       "2  September 30, 2023  \n",
       "3    October 05, 2023  \n",
       "4  September 30, 2023  "
      ]
     },
     "execution_count": 81,
     "metadata": {},
     "output_type": "execute_result"
    }
   ],
   "source": [
    "reviews_df.head()"
   ]
  },
  {
   "cell_type": "code",
   "execution_count": 85,
   "id": "5910c109",
   "metadata": {},
   "outputs": [
    {
     "name": "stdout",
     "output_type": "stream",
     "text": [
      "<class 'pandas.core.series.Series'>\n",
      "RangeIndex: 769 entries, 0 to 768\n",
      "Series name: Date\n",
      "Non-Null Count  Dtype \n",
      "--------------  ----- \n",
      "769 non-null    object\n",
      "dtypes: object(1)\n",
      "memory usage: 6.1+ KB\n"
     ]
    }
   ],
   "source": [
    "reviews_df['Date'].info()"
   ]
  },
  {
   "cell_type": "code",
   "execution_count": 86,
   "id": "7be0e3e9",
   "metadata": {},
   "outputs": [],
   "source": [
    "reviews_df['Date'] = pd.to_datetime(reviews_df['Date'], format='%B %d, %Y')"
   ]
  },
  {
   "cell_type": "code",
   "execution_count": 87,
   "id": "15d8e8b9",
   "metadata": {},
   "outputs": [
    {
     "data": {
      "text/plain": [
       "2019"
      ]
     },
     "execution_count": 87,
     "metadata": {},
     "output_type": "execute_result"
    }
   ],
   "source": [
    "reviews_df['Date'].dt.year.min()"
   ]
  },
  {
   "cell_type": "code",
   "execution_count": 88,
   "id": "7f508971",
   "metadata": {},
   "outputs": [
    {
     "data": {
      "text/plain": [
       "2023"
      ]
     },
     "execution_count": 88,
     "metadata": {},
     "output_type": "execute_result"
    }
   ],
   "source": [
    "reviews_df['Date'].dt.year.max()"
   ]
  },
  {
   "cell_type": "markdown",
   "id": "555d36e8",
   "metadata": {},
   "source": [
    "**Observation:** The reviews aren't too old they range from 2019 to 2023."
   ]
  },
  {
   "cell_type": "markdown",
   "id": "e3abe043",
   "metadata": {},
   "source": [
    "# Basic EDA"
   ]
  },
  {
   "cell_type": "code",
   "execution_count": 96,
   "id": "ef717d57",
   "metadata": {},
   "outputs": [],
   "source": [
    "# Spell Check\n",
    "#Got the following spell checker code from here: https://stackoverflow.com/questions/58703366/is-there-any-way-in-python-to-auto-correct-spelling-mistake-in-multiple-rows-of\n",
    "#Code is pretty much the same i just added in some conditions when i got error later\n",
    "from spellchecker import SpellChecker\n",
    "\n",
    "def spell_check(x):\n",
    "    spell = SpellChecker()\n",
    "    correct_word = []\n",
    "    mispelled_word = x.split()\n",
    "    for word in mispelled_word:\n",
    "        correction = spell.correction(word)\n",
    "        #if a correction is found append it to the correct_word list\n",
    "        if correction is not None:\n",
    "            correct_word.append(correction)\n",
    "        #if no correction is found keep the original word and append it to correct_word list\n",
    "        else:\n",
    "            correct_word.append(word)  # Keep the original word if no correction is found\n",
    "    #convert the list into a sentence\n",
    "    return ' '.join(correct_word)"
   ]
  },
  {
   "cell_type": "code",
   "execution_count": 99,
   "id": "12211dcf",
   "metadata": {},
   "outputs": [
    {
     "data": {
      "text/plain": [
       "Ratings     0\n",
       "Reviews    10\n",
       "Date        0\n",
       "dtype: int64"
      ]
     },
     "execution_count": 99,
     "metadata": {},
     "output_type": "execute_result"
    }
   ],
   "source": [
    "reviews_df.isna().sum()"
   ]
  },
  {
   "cell_type": "markdown",
   "id": "dd3b23e0",
   "metadata": {},
   "source": [
    "Since out of 769 rows only 10 reviews are missing, therefore, I'll drop these"
   ]
  },
  {
   "cell_type": "code",
   "execution_count": 101,
   "id": "6ddf2ad2",
   "metadata": {},
   "outputs": [],
   "source": [
    "reviews_df = reviews_df.dropna(subset=['Reviews'])"
   ]
  },
  {
   "cell_type": "code",
   "execution_count": 102,
   "id": "76a9a452",
   "metadata": {},
   "outputs": [
    {
     "data": {
      "text/plain": [
       "0      I just moved from US to can This is by far the...\n",
       "1      Call centres don't want to do their work so th...\n",
       "2      These crooks literally keep draining my accoun...\n",
       "3      I am very pleased with scotch bank customer se...\n",
       "4      Would give 0 star if I could Financial advisor...\n",
       "                             ...                        \n",
       "763    Worst online banking service i've ever experie...\n",
       "764    I received a link with a 100$ Amazon bonus upo...\n",
       "766    The branch in it annas Bay has the WORST CUSTO...\n",
       "767    Scotiabank has always been willing to offer me...\n",
       "768    I had to deal with an obnoxious condescending ...\n",
       "Name: Reviews, Length: 759, dtype: object"
      ]
     },
     "execution_count": 102,
     "metadata": {},
     "output_type": "execute_result"
    }
   ],
   "source": [
    "reviews_df['Reviews'].apply(lambda x: spell_check(x))"
   ]
  },
  {
   "cell_type": "markdown",
   "id": "8fe1b4de",
   "metadata": {},
   "source": [
    "Spell check didn't correct following cases of spelling mistakes so I am manually taking them into consideration"
   ]
  },
  {
   "cell_type": "code",
   "execution_count": 107,
   "id": "fa6be227",
   "metadata": {},
   "outputs": [],
   "source": [
    "# Filtering rows where 'Reviews' column contains the word 'advisor'\n",
    "# Taking into account any potential speeling mistakes\n",
    "adv_keywords = ['advisor','adviser','advisar']\n",
    "advisor_reviews_df = reviews_df[reviews_df['Reviews'].str.contains('|'.join(adv_keywords), case=False, na=False)]"
   ]
  },
  {
   "cell_type": "code",
   "execution_count": 108,
   "id": "7be9bb05",
   "metadata": {},
   "outputs": [
    {
     "data": {
      "text/plain": [
       "(31, 3)"
      ]
     },
     "execution_count": 108,
     "metadata": {},
     "output_type": "execute_result"
    }
   ],
   "source": [
    "advisor_reviews_df.shape"
   ]
  },
  {
   "cell_type": "markdown",
   "id": "ab35fa13",
   "metadata": {},
   "source": [
    "**Observation:** Out of 769 reviews extracted only 31 of them talk about their experience with the advisors."
   ]
  },
  {
   "cell_type": "code",
   "execution_count": 109,
   "id": "c8ccebed",
   "metadata": {},
   "outputs": [
    {
     "data": {
      "text/html": [
       "<div>\n",
       "<style scoped>\n",
       "    .dataframe tbody tr th:only-of-type {\n",
       "        vertical-align: middle;\n",
       "    }\n",
       "\n",
       "    .dataframe tbody tr th {\n",
       "        vertical-align: top;\n",
       "    }\n",
       "\n",
       "    .dataframe thead th {\n",
       "        text-align: right;\n",
       "    }\n",
       "</style>\n",
       "<table border=\"1\" class=\"dataframe\">\n",
       "  <thead>\n",
       "    <tr style=\"text-align: right;\">\n",
       "      <th></th>\n",
       "      <th>Ratings</th>\n",
       "      <th>Reviews</th>\n",
       "      <th>Date</th>\n",
       "    </tr>\n",
       "  </thead>\n",
       "  <tbody>\n",
       "    <tr>\n",
       "      <th>4</th>\n",
       "      <td>1</td>\n",
       "      <td>Would give 0 star if I could. Financial adviso...</td>\n",
       "      <td>2023-09-30</td>\n",
       "    </tr>\n",
       "    <tr>\n",
       "      <th>14</th>\n",
       "      <td>1</td>\n",
       "      <td>Bloody aweful, advice so bad even another scot...</td>\n",
       "      <td>2023-08-24</td>\n",
       "    </tr>\n",
       "    <tr>\n",
       "      <th>25</th>\n",
       "      <td>1</td>\n",
       "      <td>got me to sign mortgage paper without content,...</td>\n",
       "      <td>2023-08-16</td>\n",
       "    </tr>\n",
       "    <tr>\n",
       "      <th>91</th>\n",
       "      <td>1</td>\n",
       "      <td>I had been banking with Scotiabank for over te...</td>\n",
       "      <td>2023-04-06</td>\n",
       "    </tr>\n",
       "    <tr>\n",
       "      <th>121</th>\n",
       "      <td>1</td>\n",
       "      <td>Tried to open a simple high interest savings a...</td>\n",
       "      <td>2023-02-14</td>\n",
       "    </tr>\n",
       "  </tbody>\n",
       "</table>\n",
       "</div>"
      ],
      "text/plain": [
       "     Ratings                                            Reviews       Date\n",
       "4          1  Would give 0 star if I could. Financial adviso... 2023-09-30\n",
       "14         1  Bloody aweful, advice so bad even another scot... 2023-08-24\n",
       "25         1  got me to sign mortgage paper without content,... 2023-08-16\n",
       "91         1  I had been banking with Scotiabank for over te... 2023-04-06\n",
       "121        1  Tried to open a simple high interest savings a... 2023-02-14"
      ]
     },
     "execution_count": 109,
     "metadata": {},
     "output_type": "execute_result"
    }
   ],
   "source": [
    "advisor_reviews_df.head()"
   ]
  },
  {
   "cell_type": "code",
   "execution_count": 110,
   "id": "82e3b588",
   "metadata": {},
   "outputs": [
    {
     "data": {
      "text/plain": [
       "2020"
      ]
     },
     "execution_count": 110,
     "metadata": {},
     "output_type": "execute_result"
    }
   ],
   "source": [
    "advisor_reviews_df['Date'].dt.year.min()"
   ]
  },
  {
   "cell_type": "code",
   "execution_count": 111,
   "id": "fbb9ba73",
   "metadata": {},
   "outputs": [
    {
     "data": {
      "text/plain": [
       "2023"
      ]
     },
     "execution_count": 111,
     "metadata": {},
     "output_type": "execute_result"
    }
   ],
   "source": [
    "advisor_reviews_df['Date'].dt.year.max()"
   ]
  },
  {
   "cell_type": "code",
   "execution_count": 131,
   "id": "6928c02f",
   "metadata": {},
   "outputs": [
    {
     "data": {
      "text/plain": [
       "Text(0.5, 1.0, 'Histogram of Review Ratings for Advisors')"
      ]
     },
     "execution_count": 131,
     "metadata": {},
     "output_type": "execute_result"
    },
    {
     "data": {
      "image/png": "[encoded data removed]",
      "text/plain": [
       "<Figure size 640x480 with 1 Axes>"
      ]
     },
     "metadata": {},
     "output_type": "display_data"
    }
   ],
   "source": [
    "import matplotlib.pyplot as plt\n",
    "# Want to see distribution of the rating for customers experience with advisors\n",
    "plt.hist(advisor_reviews_df['Ratings'], bins=5, edgecolor='black',color='red')  # You can adjust the number of bins as needed\n",
    "plt.xlabel('Rating')\n",
    "plt.ylabel('Count')\n",
    "plt.title('Histogram of Review Ratings for Advisors')"
   ]
  },
  {
   "cell_type": "code",
   "execution_count": 113,
   "id": "aaefd184",
   "metadata": {},
   "outputs": [
    {
     "data": {
      "text/html": [
       "<div>\n",
       "<style scoped>\n",
       "    .dataframe tbody tr th:only-of-type {\n",
       "        vertical-align: middle;\n",
       "    }\n",
       "\n",
       "    .dataframe tbody tr th {\n",
       "        vertical-align: top;\n",
       "    }\n",
       "\n",
       "    .dataframe thead th {\n",
       "        text-align: right;\n",
       "    }\n",
       "</style>\n",
       "<table border=\"1\" class=\"dataframe\">\n",
       "  <thead>\n",
       "    <tr style=\"text-align: right;\">\n",
       "      <th></th>\n",
       "      <th>Ratings</th>\n",
       "      <th>Reviews</th>\n",
       "      <th>Date</th>\n",
       "    </tr>\n",
       "  </thead>\n",
       "  <tbody>\n",
       "    <tr>\n",
       "      <th>0</th>\n",
       "      <td>1</td>\n",
       "      <td>29</td>\n",
       "      <td>29</td>\n",
       "    </tr>\n",
       "    <tr>\n",
       "      <th>1</th>\n",
       "      <td>2</td>\n",
       "      <td>1</td>\n",
       "      <td>1</td>\n",
       "    </tr>\n",
       "    <tr>\n",
       "      <th>2</th>\n",
       "      <td>5</td>\n",
       "      <td>1</td>\n",
       "      <td>1</td>\n",
       "    </tr>\n",
       "  </tbody>\n",
       "</table>\n",
       "</div>"
      ],
      "text/plain": [
       "   Ratings  Reviews  Date\n",
       "0        1       29    29\n",
       "1        2        1     1\n",
       "2        5        1     1"
      ]
     },
     "execution_count": 113,
     "metadata": {},
     "output_type": "execute_result"
    }
   ],
   "source": [
    "advisor_reviews_df.groupby('Ratings').count().reset_index()"
   ]
  },
  {
   "cell_type": "markdown",
   "id": "2d84dbf5",
   "metadata": {},
   "source": [
    "As observed from the histogram and and the table generated, most customers aren't satisfied with their experience with financial advisors. There are 31 reviews about financial advisors, 29 of them rated their experience as 1."
   ]
  },
  {
   "cell_type": "code",
   "execution_count": 115,
   "id": "7194fa1f",
   "metadata": {},
   "outputs": [],
   "source": [
    "# Filter rows where the rating is 1 or 2 because we are only interested in areas of improvement\n",
    "filtered_adv_rev_df = advisor_reviews_df[(advisor_reviews_df['Ratings'] == 1) | (advisor_reviews_df['Ratings'] == 2)]\n"
   ]
  },
  {
   "cell_type": "markdown",
   "id": "884a9d52",
   "metadata": {},
   "source": [
    "# NLP\n",
    "## Creating Custom List of Stop Words\n",
    "From my experience working with NLP I know that some words that exist in nltk stop words do not exist in count vectorizer. So, I am creating a custome list to include stop words from both. Countvectorizer has more stopwords than nltk."
   ]
  },
  {
   "cell_type": "code",
   "execution_count": 116,
   "id": "075724fe",
   "metadata": {},
   "outputs": [],
   "source": [
    "#nltk.download('stopwords')\n",
    "#nltk.download('wordnet')\n",
    "#nltk.download('omw-1.4')\n",
    "from sklearn.feature_extraction.text import CountVectorizer\n",
    "from nltk.corpus import stopwords\n",
    "from nltk.tokenize import word_tokenize\n",
    "from nltk.stem import WordNetLemmatizer\n",
    "from nltk.stem import PorterStemmer\n",
    "import string\n",
    "\n"
   ]
  },
  {
   "cell_type": "code",
   "execution_count": 117,
   "id": "30855858",
   "metadata": {},
   "outputs": [],
   "source": [
    "nltk_stop_words = stopwords.words('english')"
   ]
  },
  {
   "cell_type": "code",
   "execution_count": 118,
   "id": "9d3948ca",
   "metadata": {},
   "outputs": [],
   "source": [
    "cv = CountVectorizer(stop_words='english')\n",
    "cv_stop_words = cv.get_stop_words()"
   ]
  },
  {
   "cell_type": "code",
   "execution_count": 119,
   "id": "ce7ea7ba",
   "metadata": {},
   "outputs": [
    {
     "name": "stdout",
     "output_type": "stream",
     "text": [
      "378\n"
     ]
    }
   ],
   "source": [
    "# Since the stop words from countvectorizer is a frozen set, I'll change it to normal set, so I can add more word to it\n",
    "cv_stop_words = set(cv_stop_words)\n",
    "for word in nltk_stop_words:\n",
    "    if word not in cv_stop_words:\n",
    "        cv_stop_words.add(word)\n",
    "\n",
    "print(len(cv_stop_words))"
   ]
  },
  {
   "cell_type": "markdown",
   "id": "af2d837e",
   "metadata": {},
   "source": [
    "## Tokenizer\n",
    "Tokenizer tokenizes the reviews, removes stop words and lemmatizes them"
   ]
  },
  {
   "cell_type": "code",
   "execution_count": 120,
   "id": "2b334a55",
   "metadata": {},
   "outputs": [],
   "source": [
    "import re\n",
    "\n",
    "def my_tokenizer(document, lemmatization=True):\n",
    "    '''\n",
    "    Function for use in Vectorizer that tokenizes the document\n",
    "    '''\n",
    "    # all stop words are in lower case, I want to ensure that they don't get missed due to case sensitivity\n",
    "    # hence putting document (each row of reviews) in lower case as well.\n",
    "    document = document.lower()\n",
    "    \n",
    "    # pattern denoting a sequence of at least 2 alphanumeric characters, pattern excludes punctuations\n",
    "    pattern = r\"(?u)\\b\\w\\w+\\b\"\n",
    "    # tokenize - split by matching a pattern\n",
    "    tokenized_document = re.findall(pattern, document)\n",
    "    \n",
    "    # remove stopwords before lemmatization\n",
    "    tokenized_document = [word for word in tokenized_document if word not in cv_stop_words]\n",
    "    \n",
    "    # lemmatize\n",
    "    if lemmatization==True:\n",
    "        lemmatized_tokens_list = []\n",
    "        for i in tokenized_document:\n",
    "            token = WordNetLemmatizer().lemmatize(i)\n",
    "            lemmatized_tokens_list.append(token)\n",
    "        return lemmatized_tokens_list\n",
    "\n",
    "    return tokenized_document"
   ]
  },
  {
   "cell_type": "markdown",
   "id": "38281af1",
   "metadata": {},
   "source": [
    "## Count vectorizer"
   ]
  },
  {
   "cell_type": "code",
   "execution_count": 121,
   "id": "da07053a",
   "metadata": {},
   "outputs": [
    {
     "name": "stdout",
     "output_type": "stream",
     "text": [
      "(30, 100)\n"
     ]
    },
    {
     "name": "stderr",
     "output_type": "stream",
     "text": [
      "C:\\Users\\Sundus Yawar\\anaconda3\\lib\\site-packages\\sklearn\\feature_extraction\\text.py:516: UserWarning: The parameter 'token_pattern' will not be used since 'tokenizer' is not None'\n",
      "  warnings.warn(\n"
     ]
    }
   ],
   "source": [
    "# Initialise a CountVectorizer object\n",
    "count_vectorizer = CountVectorizer(tokenizer=my_tokenizer, min_df=2,max_features=100)\n",
    "\n",
    "# Fit the CountVectorizer object on X_train\n",
    "count_vectorizer.fit(filtered_adv_rev_df['Reviews'])\n",
    "\n",
    "# Transform X_train using the fitted CountVectorizer object\n",
    "count_matrix_train = count_vectorizer.transform(filtered_adv_rev_df['Reviews'])\n",
    "\n",
    "print(count_matrix_train.shape)"
   ]
  },
  {
   "cell_type": "markdown",
   "id": "40fa6b0c",
   "metadata": {},
   "source": [
    "### Getting common words"
   ]
  },
  {
   "cell_type": "code",
   "execution_count": 122,
   "id": "63893bad",
   "metadata": {},
   "outputs": [
    {
     "name": "stdout",
     "output_type": "stream",
     "text": [
      "The most common words and their counts are:\n"
     ]
    },
    {
     "data": {
      "text/html": [
       "<div>\n",
       "<style scoped>\n",
       "    .dataframe tbody tr th:only-of-type {\n",
       "        vertical-align: middle;\n",
       "    }\n",
       "\n",
       "    .dataframe tbody tr th {\n",
       "        vertical-align: top;\n",
       "    }\n",
       "\n",
       "    .dataframe thead th {\n",
       "        text-align: right;\n",
       "    }\n",
       "</style>\n",
       "<table border=\"1\" class=\"dataframe\">\n",
       "  <thead>\n",
       "    <tr style=\"text-align: right;\">\n",
       "      <th></th>\n",
       "      <th>counts</th>\n",
       "    </tr>\n",
       "  </thead>\n",
       "  <tbody>\n",
       "    <tr>\n",
       "      <th>bank</th>\n",
       "      <td>52</td>\n",
       "    </tr>\n",
       "    <tr>\n",
       "      <th>account</th>\n",
       "      <td>46</td>\n",
       "    </tr>\n",
       "    <tr>\n",
       "      <th>advisor</th>\n",
       "      <td>41</td>\n",
       "    </tr>\n",
       "    <tr>\n",
       "      <th>time</th>\n",
       "      <td>37</td>\n",
       "    </tr>\n",
       "    <tr>\n",
       "      <th>branch</th>\n",
       "      <td>32</td>\n",
       "    </tr>\n",
       "    <tr>\n",
       "      <th>card</th>\n",
       "      <td>28</td>\n",
       "    </tr>\n",
       "    <tr>\n",
       "      <th>money</th>\n",
       "      <td>27</td>\n",
       "    </tr>\n",
       "    <tr>\n",
       "      <th>service</th>\n",
       "      <td>24</td>\n",
       "    </tr>\n",
       "    <tr>\n",
       "      <th>scotia</th>\n",
       "      <td>24</td>\n",
       "    </tr>\n",
       "    <tr>\n",
       "      <th>scotiabank</th>\n",
       "      <td>23</td>\n",
       "    </tr>\n",
       "    <tr>\n",
       "      <th>financial</th>\n",
       "      <td>22</td>\n",
       "    </tr>\n",
       "    <tr>\n",
       "      <th>told</th>\n",
       "      <td>19</td>\n",
       "    </tr>\n",
       "    <tr>\n",
       "      <th>customer</th>\n",
       "      <td>18</td>\n",
       "    </tr>\n",
       "    <tr>\n",
       "      <th>business</th>\n",
       "      <td>17</td>\n",
       "    </tr>\n",
       "    <tr>\n",
       "      <th>day</th>\n",
       "      <td>16</td>\n",
       "    </tr>\n",
       "    <tr>\n",
       "      <th>close</th>\n",
       "      <td>16</td>\n",
       "    </tr>\n",
       "    <tr>\n",
       "      <th>online</th>\n",
       "      <td>16</td>\n",
       "    </tr>\n",
       "    <tr>\n",
       "      <th>month</th>\n",
       "      <td>16</td>\n",
       "    </tr>\n",
       "    <tr>\n",
       "      <th>called</th>\n",
       "      <td>15</td>\n",
       "    </tr>\n",
       "    <tr>\n",
       "      <th>week</th>\n",
       "      <td>15</td>\n",
       "    </tr>\n",
       "    <tr>\n",
       "      <th>person</th>\n",
       "      <td>13</td>\n",
       "    </tr>\n",
       "    <tr>\n",
       "      <th>experience</th>\n",
       "      <td>12</td>\n",
       "    </tr>\n",
       "    <tr>\n",
       "      <th>manager</th>\n",
       "      <td>12</td>\n",
       "    </tr>\n",
       "    <tr>\n",
       "      <th>appointment</th>\n",
       "      <td>11</td>\n",
       "    </tr>\n",
       "    <tr>\n",
       "      <th>phone</th>\n",
       "      <td>11</td>\n",
       "    </tr>\n",
       "  </tbody>\n",
       "</table>\n",
       "</div>"
      ],
      "text/plain": [
       "             counts\n",
       "bank             52\n",
       "account          46\n",
       "advisor          41\n",
       "time             37\n",
       "branch           32\n",
       "card             28\n",
       "money            27\n",
       "service          24\n",
       "scotia           24\n",
       "scotiabank       23\n",
       "financial        22\n",
       "told             19\n",
       "customer         18\n",
       "business         17\n",
       "day              16\n",
       "close            16\n",
       "online           16\n",
       "month            16\n",
       "called           15\n",
       "week             15\n",
       "person           13\n",
       "experience       12\n",
       "manager          12\n",
       "appointment      11\n",
       "phone            11"
      ]
     },
     "execution_count": 122,
     "metadata": {},
     "output_type": "execute_result"
    }
   ],
   "source": [
    "import numpy as np\n",
    "# sum all the rows for each feature\n",
    "word_counts = pd.DataFrame(\n",
    "        {\"counts\": np.array(count_matrix_train.sum(axis=0)).flatten()},\n",
    "        index=count_vectorizer.get_feature_names_out()).sort_values(\"counts\", ascending=False)\n",
    "\n",
    "print('The most common words and their counts are:')\n",
    "word_counts[:25]"
   ]
  },
  {
   "cell_type": "markdown",
   "id": "e39eb502",
   "metadata": {},
   "source": [
    "### Analysis\n",
    "Based on the frequency count above, it seems that in relation to financial advisory customers have issues with the following:  \n",
    "- Account Management based on the words\n",
    "| Keyword   | Count |\n",
    "|:---------:|:--------:|\n",
    "| account   | 46       |\n",
    "| card      | 28       |\n",
    "| money     | 27       |\n",
    "| financial | 22       |\n",
    "| business  | 17       |\n",
    "| close     | 16       |\n",
    "| online    | 16       |\n",
    "- Customer Service based on the words\n",
    "| Keyword     | Count |\n",
    "|:-----------:|:--------:|\n",
    "| advisor     | 41       |\n",
    "| service     | 24       |\n",
    "| told        | 19       |\n",
    "| customer    | 18       |\n",
    "| called      | 15       |\n",
    "| person      | 13       |\n",
    "| experience  | 12       |\n",
    "| manager     | 12       |\n",
    "| phone       | 11       |\n",
    "| appointment | 11       |\n",
    "- Location based on the words\n",
    "| Keyword | Count |\n",
    "|:-------:|:--------:|\n",
    "| bank    | 52       |\n",
    "| branch  | 32       |\n",
    "| scotia  | 24       |\n",
    "| scotiabank  | 23       |\n",
    "- Timeliness of Service issues based on the words\n",
    "| Keyword | Count |\n",
    "|:-------:|:--------:|\n",
    "| time    | 36       |\n",
    "| day     | 16       |\n",
    "| month   | 16       |\n",
    "| week    | 15       |\n",
    "  \n",
    "  \n",
    "I'll need to filter the reviews by these key words to see what exactly were their concerns"
   ]
  },
  {
   "cell_type": "code",
   "execution_count": 127,
   "id": "d4d932ce",
   "metadata": {},
   "outputs": [
    {
     "data": {
      "text/plain": [
       "([0, 1, 2, 3, 4, 5, 6],\n",
       " [Text(0, 0, ''),\n",
       "  Text(0, 0, ''),\n",
       "  Text(0, 0, ''),\n",
       "  Text(0, 0, ''),\n",
       "  Text(0, 0, ''),\n",
       "  Text(0, 0, ''),\n",
       "  Text(0, 0, '')])"
      ]
     },
     "execution_count": 127,
     "metadata": {},
     "output_type": "execute_result"
    },
    {
     "data": {
      "image/png": "[encoded data removed]",
      "text/plain": [
       "<Figure size 1000x600 with 1 Axes>"
      ]
     },
     "metadata": {},
     "output_type": "display_data"
    }
   ],
   "source": [
    "# account management issues\n",
    "data = {\n",
    "    'Keyword': ['account', 'card', 'money', 'financial', 'business', 'close', 'online'],\n",
    "    'Count': [46, 28, 27, 22, 17, 16, 16]\n",
    "}\n",
    "\n",
    "account_management_df = pd.DataFrame(data)\n",
    "\n",
    "# Create a bar chart with red bars\n",
    "plt.figure(figsize=(10, 6))\n",
    "bars = plt.bar(account_management_df['Keyword'], account_management_df['Count'], color='red')\n",
    "plt.xlabel('Keyword')\n",
    "plt.ylabel('Count')\n",
    "plt.title('Words Associated with Account Management Issue')\n",
    "plt.xticks(rotation=45)"
   ]
  },
  {
   "cell_type": "code",
   "execution_count": 132,
   "id": "4c9fedd4",
   "metadata": {},
   "outputs": [
    {
     "data": {
      "image/png": "[encoded data removed]",
      "text/plain": [
       "<Figure size 1000x600 with 1 Axes>"
      ]
     },
     "metadata": {},
     "output_type": "display_data"
    }
   ],
   "source": [
    "# customer service issues\n",
    "data = {\n",
    "    'Keyword': ['advisor', 'service', 'told', 'customer', 'called', 'person','experience', 'manager', 'phone', 'appointment'],\n",
    "    'Count': [41, 24, 19, 18, 15, 13, 12, 12, 11, 11]\n",
    "}\n",
    "\n",
    "customer_service_df = pd.DataFrame(data)\n",
    "# Create a bar chart\n",
    "plt.figure(figsize=(10, 6))\n",
    "plt.bar(customer_service_df['Keyword'], customer_service_df['Count'], color='red')\n",
    "plt.xlabel('Keyword')\n",
    "plt.ylabel('Count')\n",
    "plt.title('Words Associated with Customer Service Issues')\n",
    "plt.xticks(rotation=45)\n",
    "plt.show()\n"
   ]
  },
  {
   "cell_type": "code",
   "execution_count": 129,
   "id": "c7b76f3d",
   "metadata": {},
   "outputs": [
    {
     "data": {
      "image/png": "[encoded data removed]",
      "text/plain": [
       "<Figure size 800x500 with 1 Axes>"
      ]
     },
     "metadata": {},
     "output_type": "display_data"
    }
   ],
   "source": [
    "# timelineness\n",
    "data = {\n",
    "    'Keyword': ['time', 'day', 'month', 'week'],\n",
    "    'Count': [36, 16, 16, 15]\n",
    "}\n",
    "timeliness_df = pd.DataFrame(data)\n",
    "\n",
    "# Create a bar chart\n",
    "plt.figure(figsize=(8, 5))\n",
    "plt.bar(timeliness_df['Keyword'], timeliness_df['Count'], color='red')\n",
    "plt.xlabel('Keyword')\n",
    "plt.ylabel('Count')\n",
    "plt.title('Words Associated with Timeliness Issues')\n",
    "plt.xticks(rotation=45)\n",
    "plt.show()"
   ]
  },
  {
   "cell_type": "markdown",
   "id": "694a7692",
   "metadata": {},
   "source": [
    "#### Understanding Account Management Issues\n"
   ]
  },
  {
   "cell_type": "code",
   "execution_count": 133,
   "id": "e308793c",
   "metadata": {},
   "outputs": [],
   "source": [
    "a_m_i_keywords = [\"account\", \"card\", \"money\", \"financial\", \"business\", \"close\", \"online\"]\n",
    "\n",
    "a_m_i_df = filtered_adv_rev_df[filtered_adv_rev_df['Reviews'].str.contains('|'.join(a_m_i_keywords), case=False)]"
   ]
  },
  {
   "cell_type": "code",
   "execution_count": 134,
   "id": "3cc5a6af",
   "metadata": {},
   "outputs": [
    {
     "data": {
      "text/plain": [
       "(28, 3)"
      ]
     },
     "execution_count": 134,
     "metadata": {},
     "output_type": "execute_result"
    }
   ],
   "source": [
    "a_m_i_df.shape"
   ]
  },
  {
   "cell_type": "code",
   "execution_count": 136,
   "id": "7318443c",
   "metadata": {},
   "outputs": [
    {
     "name": "stdout",
     "output_type": "stream",
     "text": [
      "=========\n",
      "\n",
      "===== 2023-09-30 00:00:00 \n",
      " >>> Would give 0 star if I could. Financial advisor didn’t do her job. So I was stuck wondering why my appointment with a notary was canceled . Took several emails and phone calls to get an answer after two weeks! One of the advisors told me with a fed-up tone that he was very busy.. and I should write him an email. I wrote him two emails before getting him on the phone. Then the branch director took matters in her own hands but…more delays! Mortgage Documents supposed to be issued and sent to me within a day showed up 3 days later after several mails and voice messages. And when I thought it would be a bit smoother now .. spoiler no! More delays and no explanation. What should have been taken a week isn’t done after a month. Worst experience ever. Customer service is a big 0!! Don’t go there. Avoid at all costs.\n",
      "=========\n",
      "\n",
      "===== 2023-08-24 00:00:00 \n",
      " >>> Bloody aweful, advice so bad even another scotiabank advisor said it was wrong and I would be paying excess tax. My instruction to my advisor, to replace himself was simply ignored. When i transfered money in, i had 10 missed calls in a morning. My complaint to the branch manager was ignored, not escalated and now it's 28 days old with only an acknowledgement to show. I'm taking my money and leaving.\n",
      "=========\n",
      "\n",
      "===== 2023-04-06 00:00:00 \n",
      " >>> I had been banking with Scotiabank for over ten years and just recently I switched to a new bank.More times than not, their app doesn't work. They have something called \"courtesy overdraft\" which is just robbery because they say they'll let a transaction go through to not charge you overdraft but then charge a $15 overdrawn handling fee on top of the monthly fee. I been noticing these charges for months now until I recently called in and their adviser was like it can't be removed over the phone, lmao. They're telling me I'm in the negative balance but that's not what I'm seeing through the mobile app. It makes no sense, how can I transfer and spend money that's not in the account in the first place. Their telephone service is never of any help. I'm pretty much fed up with Scotiabank's shenanigans.\n",
      "=========\n",
      "\n",
      "===== 2023-02-14 00:00:00 \n",
      " >>> Tried to open a simple high interest savings account online. After waiting almost 2 weeks for a client card I decided to go to my local branch and open the account. After confirming my account I was informed that my savings account was not the one offering the promotional rate and I also had a chequing account that would be charged a fee without a minimum $5000 balance. The teller then wanted me to make an appointment to see an advisor. WhenI asked to see the manager, the manager accused me of not listening to the teller. I then told them both to close my accounts and left. I don't understand why I needed to see an advisor just  to open a simple savings account?  I've done this on-line with many other banks. Scotia bank should get with the times. People don't always need or want to be told what to do with their money. The amount of waste of time and resource here is laughable!!\n",
      "=========\n",
      "\n",
      "===== 2023-03-02 00:00:00 \n",
      " >>> They used to be good. I started banking with these guys about 2 decades ago, even transferred all my money and business to these guys.The problem is now I need to intermittently take money out of the RESP to pay my kid's tuition etc., and it's like pulling teeth. Every customer service person has different contradicting advice on what should/can be done and how to do it. The \"financial advisors\" don't want to touch RESPs with a ten foot pole and will ignore every time you try to talk to them, but you MUST make an appointment with them when you want to withdraw. You cannot do it at the branch.This last time I made an appointment, the guy I made the appointment with didn't bother to show up and another person called instead, she was very polite and went through the entire process - and then no money was ever transfered. So now it's the end of the month and I'm $3K short to pay my credit card.F&&& Scotiabank. Anyone have better ideas of where to bank?\n",
      "=========\n",
      "\n",
      "===== 2022-11-08 00:00:00 \n",
      " >>> We were dealing with a financial advisor at Scotia Bank for our mortgage.  With rising interest rates, we decided to sell a major asset to pay down our mortgage with the intent to reduce our payment.  The financial advisor told us we could reduce our payment by $200-$300 dollars.  When we finally arranged to make the payment against the principle, we found out our advisor was no longer with the branch.  We ended up dealing with a trainee who had to have a (I assume) manager to help him deposit the principle payment.  After the deposit they sent us a statement in them ail several days later only to find out that they did NOT reduce our payment but only reduced the payment term.  We are now paying a much higher mortgage payment and they are telling us we cannot have a lower payment.  They lied to us and used our money in a manner to reduce their risk.  This is the worst banking service we had ever received.  Having lied to us we want them to terminate the renewal date so we can go elsewhere.  I strongly recommend avoiding Scotia Bank as they are not helping us at all.\n",
      "=========\n",
      "\n",
      "===== 2023-05-05 00:00:00 \n",
      " >>> So I got a savings account with scotiabank on a whim to try and save some money before hitting financial issues. I was able to walk in and do it same day.I proceeded to need the money in the account. I was soon put into overdraft because apparently it's 5 dollars a transaction which I wasn't told.Then after that's resolved. I tried to walk in and open a chequing account. Since I did a savings it should of worked. Nope. I'd have to have a damn meeting with a financial advisor. It was an emergency thing because my purely online banks card went missing. So got screwed. So I can open a savings without talking to anyone but not a chequing account? I can even do it online bit God forbid.Now I tried to cancel. They locked me out of my account by putting 2 factor on it without my consent. And when I tried to close the account they told me I'd have to transfer out the 0.25$ I have in it to close it. Refused to close it. And now I have to go in person to close it.**** them so hard.\n",
      "=========\n",
      "\n",
      "===== 2022-09-18 00:00:00 \n",
      " >>> Tried to send an interac transfer to my SO (who has sent and received money from me before), Scotiabank decides today's the day they're going to block the transfer without offering an explanation or initial check before just blocking it. After talking to multiple chat advisors, nobody could give me an answer and told me \"call this number, they know\" Guess what! A 2 HOUR wait before I spoke to a single person. I had to wait and listen to their awful music, and had to spend almost another hour before it could be resolved. I went to the branch the next day and withdrew my funds, closing my account. What an absolute awful bank and an awful experience. This was the final straw after numerous \"____ service will not be available from M-F\" \"Interac is currently down\" \"There was an error logging you in\" \"Sorry, can't complete the request right now\", not to mention the EXTENDED amount of time you have to wait for refunds, payments to reflect, or anything being processed versus other banks. I encourage everyone to explore their options outside of Scotiabank.\n",
      "=========\n",
      "\n",
      "===== 2022-09-23 00:00:00 \n",
      " >>> Don't put your money in this bank.  They take money off from your account without your knowledge and no explanation.  You call the bank and they would not tell you anything but go to the branch.  I went to the branch and they could not tell me anything. I was told to speak to one of the financial advisors and no one was available.  No one could help me.  Making an appointment is like pulling teeth.Ridiculous wait times on the phone and worst customer service ever.  Bank hours is ridiculous.  I have to take half a day off from work to make it to their banks that close at 4PM.  Take your money somewhere else.  Don't bank at Scotiabank.\n",
      "=========\n",
      "\n",
      "===== 2022-10-30 00:00:00 \n",
      " >>> Worst bank ever, switching out asap.After they fired my decades-long advisor, they neglected to give me a new one.  I spent hours just to get an appointment to settle an estate -- simple RRIF with named beneficiary -- hour and a half of my time wasted to fill out and sign papers with a newbie that kept asking the manager how to do things.  That was in May. Now in October I get a snail mail that they are missing estate information and I have to make an appointment to provide that missing info, except the letter did not specify what info they are missing. Brilliant move to waste more of my time. Note this is six months after the estate papers were submitted. So I try calling the bank to make another appointment -- wait time to get to talk to an agent over an hour, no callback like Rogers has, you get to listen to crappy music. When I finally talk to someone, I get the full security detail questions, including the balance on my account (which I don't know because the card they gave me does not work online, yet another issue), just to make a stupid appointment I don't really want to go to but have to because some newbie screwed up my paperwork. Do they know that at TD, you can just book an appointment online, all they ask is your name, email and why you want to see an advisor... done in less than 5 minutes.These are only some of my more recent complaints. In the past year, they set my mother's maiden name to blank so I couldn't get past security questions -- hours and hours of frustration.  The new card card they give me does not register for online access. They renewed my  GIC when I explicitly told them not to.  I couldn't transfer money out of my non-registered accounts online. When that was finally fixed, the transaction just disappeared -- I could not tell whether it went through or not until it showed up in my chequing account three business days later. Why it takes that long is beyond me.Scotiabank technology is sooo behind everyone else's it's not even funny.  They think they can save time by getting rid of experienced advisors and replace them by newbies who screw up and waste everyone's time. Instead of getting the personal service I was used to, done quickly and efficiently, I get to wait to talk to some overseas person who just follows a very badly designed script.By the way, I had to open an estate account while I am waiting for the bank estate department to act. They charge $4 every month for doing absolutely nothing -- no transactions whatsoever -- while paying no interest.Why anybody in their right mind would put up with this kind of service is beyond me.  Why whoever is in charge of the bank IT department still has a job is a mystery.Advice to anyone who still banks at Scotiabank: switch to any other bank asap. And if you own Scotiabank stock, sell.\n",
      "=========\n",
      "\n",
      "===== 2022-05-01 00:00:00 \n",
      " >>> This company obviously functions according to a class based system.  Small potatoes, like myself, with a small mortgage don't deserve any consideration according to Scotiabank.  It took my bank to 6 months to port my mortgage and they had no concern how this impacted my capital gains tax.  My financial advisors did not have my best interests in mind.  Pathetic business culture.\n",
      "=========\n",
      "\n",
      "===== 2022-04-05 00:00:00 \n",
      " >>> Never join this bank. This bank has no value of retain their customers. I have been customer since long time yet I don’t get any offers and end up closed my account. Even financial advisor and customer service is very poor. Not recommend at all.I have recently connected with one of financial advisor of Scotia in Toronto and I have received worst financial advice and service even I can say I have better financial knowledge than their financial advisor. Worthless.\n",
      "=========\n",
      "\n",
      "===== 2022-02-08 00:00:00 \n",
      " >>> I opened new account 0n July 2021, they said there is welcome bonus $300 with three option.1. Direct deposite from employer2. Minimum $4000 balance in chequing account3. At least two preauthorize paymentI did fulfilled all on time. I was told that bonus $300.00 will be deposited in my account in 3-4 month. But it did not deposite. I called customer service and they said, I was not qualified to get that bonus. I was sucked and said, I met all said criteria then why I am not qualified???? They were not clear and unable to give me clear answer. I went to home branch two times. Unable to meet the perticular employee who opened my account. In my third attempt, next employee said criteria was not met. I told him, these three were criteria I was ecplained by that employer which I met on tme. Then, he said, he will talk with that employee and call me next day. Unfortunately, he went to vacation. After he retirned, I called several times, no answer. Tried to leave voice message, there is no option to leave. Email him several times, no answer. I called customer service, spoke with employees after 45 min, phone interrupted. I felt very very  frustreted. I realized that the employees ( so called advisors not front desk employees)  working in this branch (2575 Danforth Ave, Toronto, ON M4C 1L5) are not qualified as professional at all. If there is 0 rate, I would happy to give 0 rate in review. Very frustrated. I will never go with SCOTIA BANK and will never recommend anyone.\n",
      "=========\n",
      "\n",
      "===== 2022-02-07 00:00:00 \n",
      " >>> Scotiabank has discriminated aginst me in many ways. The latest is not sending in my application for first time home buyers program. Three times I Have sat with dvisor. Once spoken with the government in their office, yet they still have not sent my application in as yet. I am a Sole proprietorship Business owner I have tried to get business loans and to this day still not able to even apply for a loan. I have changed mybusines cards in branch, card doesn't work, had to go in the branch three separate times. The associates also tried to be put a hold on my check that I have cashed more than 4 times. Then told me they are doing me a favor..... Why do we have to be subjected to this? You should be professionals giving advice on how we can get things done. I m still waiting for any of the 4 advisors to respond or send in my application. Helpless business owner\n",
      "=========\n",
      "\n",
      "===== 2022-01-29 00:00:00 \n",
      " >>> Probably the worst bank in Canada. \"Advisors\" don't show up for online meetings, long lines in the bank.\n",
      "=========\n",
      "\n",
      "===== 2022-01-02 00:00:00 \n",
      " >>> Horrible experience. One day scotiabank decide to send me a new card. I called them one of the representative told me that if your card is working fine its ok no need to activate the new card and i had no problemfor 3 months and then all of a sudden my online banking access got blocked my card got blocked . When i called them advisor was telling me that because you haven’t activated your new card now everything has blocked and you have to go in branch and get a new card and then you will have access of everything.  I work for bank as well and this is the worst excuse i ever heard… Now on this new year i am without my credit card, debit card access because I haven’t just activated one card. Please avaoid this bank. Most lame bank in canada.\n",
      "=========\n",
      "\n",
      "===== 2021-12-30 00:00:00 \n",
      " >>> I moved to Canada in 2018 from the USA (I’m English but worked and had bank accounts in the UK, Europe and USA prior. Therefore I  have some comparative knowledge of banking abroad). I banked with Scotia Bank for 2+ years after leaving Canada for good in late 2020. As a customer, Scotia is the most uncompetitive, useless and spineless bank I have ever had the displeasure of using. All of the below facts occurred at the 40 Kind St W branch in Toronto.  As a Basic Bank account holder I was:1) Charged monthly fees of about 4 dollars a month for the worst service I have ever encountered (totalled about 160 CAD over the period)2) Only allowed to use less than 10 Interacs a month (to non-Canadians that means using chip and pin/tap to pay OR an online bank transfer e.g. paying your landlord rent. Yup that's right your ability to simply pay using your debit card is limited to max. 10 times a month and after that you get charged for EVERY time you use your card to pay). Theft? Yes.3) I had a Canadian Gold Amex card directly with Amex (of course I did not use the Scotia Amex card) and encountered a major issue when I paid my Amex Card off one month. What happened was that I paid off my full credit card bill for the month on Day 1 via the Amex online website. I thought I was good as I had an email notification saying the bill was paid. Cut to 3 weeks later, I was back in the UK and I got an email from Amex Canada saying my credit card bill had been unpaid for over 3 weeks and I was accruing severe charges, interest and I was banned from using Amex Canada henceforth. I was mortified as I had NEVER not paid my credit card bill on time and in full. After many long distance calls with both Amex and Scotia (where each party blamed the other), it turned out that after I had paid my Amex CA bill, Scotia did not move the funds to Amex until 3 weeks later. After 3 weeks they then moved the funds to Amex and because in between that time I had used my Scotia card a few times, my total funds amount was below the amount due on the credit card by about $100. So the amount bounced and I got a $50 fine from Scotia for a bounced payment and Amex CA was sending me warning emails left, right and centre. I have used Amex for years and from experience, once a bill has been paid, the funds should move within a few hours or at most within 48 hours, NOT 3 weeks! It turned out that Scotia made the error of not sending the money on time when I requested it. They held onto the money and only released it 3 weeks later despite the fact I had requested the money to be paid to Amex CA. It was a joke. Henceforth, I paid my credit card bills in full every month from my Scotia online banking so they couldn’t claim it was Amex’s fault. As a side note, Amex were delightful and gave me 5000 extra avios points as an apology. Scotia begrudgingly refunded me the $50 charge after I kicked up a fuss. This is not the end of the Scotia saga.4) In order for me to verify my home address in Canada, I had to get a bank statement with my address on it. Normally I just download it online from my online banking, but alas in Canada it is not that simple. Instead you have to get the Bank to stamp it with a stamp to ‘verify’ your print out AND THEN they cannot simply hand the paper to you. Oh no, they have to post it to your home address in an envelope and ONLY THEN is your bank account statement verified. Oh and Scotia charges you $15 for this ‘service’. That’s right, $15 for a stamp and an envelope.5) Scotia charged me $7 to issue me a cheque from my own account to pay a condo building deposit fee for using the service lifts to move apartments. That’s right, I took money out of my own account via cheque and was charged $7 to take the money out and issue the cheque. Then when I returned with the same cheque (it was a deposit after all), they charged me $7 again to put the money back into my account.6) I had to leave Canada quite urgently in 2020 during COVID, I did not have time to close my bank account in person as most of the branches were closed and the ones that were open had massive queues so I ended up flying home thinking (erroneously) that I would be able to close my account over the phone. I have been trying to close my account for over 4 months from abroad with no success. I first called Scotia and requested to close my account. The lady on the phone told me that she was not able to close it but would send a request to close my account and it would be up to me to follow up. I have been following up and have asked a friend to go in person and ask them to close it (unsuccessfully), I have also emailed and phoned the manager of my branch (she does not pick up or ever answer my emails). Meanwhile I am still being charged my monthly bank account fee….Oh and by the way I wrote all of this whilst in the queue to talk to a Scotia advisor on the phone…it’s been 47 minutes and I am still waiting…\n",
      "=========\n",
      "\n",
      "===== 2021-12-08 00:00:00 \n",
      " >>> Customer Service leaves a lot to be desired.   I called to talk to someone at my local bank.  I had a question about availability of some foreign currency.  I was transferred to a customer \"care\" person who not only needed to know all my banking details before he even let me ask my question.  Then when I told him what i wanted to know he gave me the phone number of a financial advisor and told me to call him the next day which was Saturday.  This particular branch is not open Saturday.  I then asked him why he couldn't connect me and he told me there was nobody available to take my call.  Then in his very highly accented english said that I had to go down to the branch in person and put in an application,  Talk about frustrating!!  This guy didn't have a clue!!!  Why is there no direct number to local branches??? All I wanted to know was if the branch had any Euro in house and if not how I was to go about getting some and the expected time of delivery. I called BMO and RBC and I was able to talk to a local person and have my questions answered in a prompt and efficient manner,  Makes me wonder why I continue to bank with these clowns\n",
      "=========\n",
      "\n",
      "===== 2021-10-19 00:00:00 \n",
      " >>> As many of you have said, if you could give zero stars, you would. I agree completely. I’ve been a Scotiabank customer for 22 years (but will definitely be changing banks) and have applied through my advisor to have my LIRA funds unlocked. My family is in a bind as we had to let go of our house and have been waiting for it to sell the past 8 weeks. I’m on a very small income and cannot currently work due to my spinal injuries. Under Alberta law, I am entitled to unlock my LIRA and the application was filed September 24. I was originally told that this application process would take a few days at most but here we are on October 19 and I still don’t have the money. My advisor contacted me late Friday to say that the investment department no longer accepted electronic signatures and needed me to sign the application in person, which I did right away. Why though, did they not contact my advisor right away when the application was filed to say that they wouldn’t take the e-signature??? It’s absolutely ridiculous! We moved out before listing the house due to Covid19 posing an elevated risk for my disabled daughter and I need the LIRA funds to help me cover the expenses for both houses. Everything is taking much longer than expected and I’m so far behind in payments to everyone but instead of helping, Scotiabank delays my application unnecessarily, continues to charge me more and more fees, and is completely unhelpful. I will continue to follow up with my complaint to Scotiabank’s customer service department until I get some results. Definitely DO NOT recommend Scotiabank.\n",
      "=========\n",
      "\n",
      "===== 2021-10-15 00:00:00 \n",
      " >>> Brittany Powers from the London downtown Main Branch has to be the worst financial advisor going for someone who is well educated you would think she would know a little thing Called customer service...  what She couldn't do for me in 3 weeks Brad did for me in one afternoon I guess Brad was right they really don't care about my business!!! Lesson learned big mistake Scotia Bank !\n",
      "=========\n",
      "\n",
      "===== 2021-09-20 00:00:00 \n",
      " >>> This piece has been updated/edited by me.-----Two different financial advisors, at two different times, advised me I pretty much didn't have enough money to invest and that interest rates were low. I agreed with the last part--for certain kinds of investments. I felt let down. I had the money I had; it was the best I could do. After accumulating more savings, soured by my experiences, I invested elsewhere. I am already seeing returns on my money.Recently, I tried to get through to my branch, but kept being ported through the Bank's main customer service number. The final time, I was connected with the voicemail of someone at my branch and I left them a message. I was never phoned back, so decided to do my little errand by travelling by transit for an hour to get to the Bank's head office branch.Three, in September of 2021, in experiencing suspected fraud (it wasn't, I'm happy to say), I was on hold several different times for 30, 45, and even 60 minutes. Hugely frustrating, as I really didn't know what was wrong with my account.In contrast to the waiting experience, when I did get through to someone, the rep was thorough, quick, and understanding. He solved my issue in minutes.My experiences with various facets of this large Bank cause me to wonder the interest it has in small fry like me, how it would explain unacceptably lengthy call wait times, and the contrast shown to those things by some outstandingly good customer service reps.\n",
      "=========\n",
      "\n",
      "===== 2021-07-04 00:00:00 \n",
      " >>> Met with Khurram Siraj (small business adviser) regarding a loan to purchase equipment for my company. I had sent the required information to him for the loan application.  I never heard back from him.Foolishly, I decided to open a business chequing and savings account with another Scotiabank business adviser. Transactions with POS terminal are waved if I used Chase.  However, decided to go with another POS company and got hammered with transaction fees.I ordered cheques online for my business account (prices are not posted online) and was slapped with a $145 fee for 100 cheques.  When I received the cheques they had my name and home address rather than my incorporated business name and business address. I called Scotiabank regarding my issue (phone calls to Scotiabank are a waste of time), then onsite at a branch who submitted a refund request, and then finally a business adviser who submitted another refund request.Finally, the request was approved but had to wait 2 weeks for Scotiabank to receive the cheque from D+H. Once they had the cheque they credited my chequing account.Finally today I wanted to close my business accounts. The branch notified me that I'd have to pay $25 per account to close them. They suggested I talk to a small business adviser to possibly wave the fees. I have yet to discuss with a business advisor and close the accounts without paying $50.  Wish me luck!  What a horrible experience!\n",
      "=========\n",
      "\n",
      "===== 2021-02-18 00:00:00 \n",
      " >>> I have had a terrible experience during these already trying financial times with a house sale and purchase; the advisor was on a medical leave and the branch manager and assistant manager did not bother to reassign me to another advisor. Feel sorry for the advisor because that's an awful thing to have to experience, but I do feel that this should be a bottom line for institutions, making sure clients are provided service. Six-7 weeks was a long time to be left churning wondering what was going on until I initiated getting another advisor myself. I did write a letter to the manager, got a \"very sorry about that, we will expedite\" response from the assistant manager, but still service is nothing. Still haven't heard from the person I actually wrote to, I note. I also note the \"expedite\" required me following up and constituted only 2 days difference from the standard time frame. They slap on all sorts of charges and penalties *because they can*. And as a person with a hearing disability, it makes no sense to me why they INSIST on doing things on the phone except then there is no written record, I suppose. I am really annoyed by \"Please call, I'll explain\".  What an awful branch, would be great it they kept staff longer who could actually develop relationships to give at least the veil of caring about clients. I've had a minimum of 6 financial advisors in an 8 year period, that's what I get for using a stepping stone branch!\n",
      "=========\n",
      "\n",
      "===== 2021-02-11 00:00:00 \n",
      " >>> I have regretted dealing Scotia bank, some of their advisers are are not well trained. They count revert a simple transaction. I lost money to Scotia bank  in the name of exchange rate, I called the bank to rectify that and no one seamed to help.\n",
      "=========\n",
      "\n",
      "===== 2020-12-10 00:00:00 \n",
      " >>> Unprofessional people working there.  Saw a grocery clerk now Branch Manager.  It shows how professional they are.  Financial advisor with no knowledge who couldn’t handle my financing.\n",
      "=========\n",
      "\n",
      "===== 2020-12-06 00:00:00 \n",
      " >>> Wish I could put -5 stars. Bank with them for five years. Had 13000 in an account for home purchase for over a year still couldn’t get a mortgage. Applied for overdraft on my account and was told because my pay is direct deposit that I automatically qualify for 500 overdraft. Guaranteed by financial adviser at my branch and a customer service rep on their client care number. So when I applied they said no.  They are not there to help people they only care about making money off ours.Closing my accounts with them and would never recommend them to anyone.\n",
      "=========\n",
      "\n",
      "===== 2020-07-24 00:00:00 \n",
      " >>> I've been trying to collect my pension and went through Scotiabank. They've been absolutely dreadful to deal with. Everybody with the same pension, but through other banks, received theirs within a week. I've been waiting for almost 2 months. Very incompetent, unhelpful and grossly understaffed. Scotia financial advisors should be ashamed of themselves! They had to keep redoing the paperwork as they never sent the right documents for 6 weeks. They have no experience with pension plans and hold up the process unacceptably as there is no staff available to accept the transfer.\n",
      "=========\n",
      "\n",
      "===== 2020-01-22 00:00:00 \n",
      " >>> worst bank ever! staff are not knowledge and always had bad experience with tellers, financial adviser and branch managers.\n"
     ]
    }
   ],
   "source": [
    "a_m_i_rev_list = a_m_i_df['Reviews'].to_list()\n",
    "a_m_i_date_list = a_m_i_df['Date'].to_list()\n",
    "for i in range(len(a_m_i_rev_list)):\n",
    "    print(\"=========\\n\\n=====\",a_m_i_date_list[i],\"\\n >>>\",a_m_i_rev_list[i])"
   ]
  },
  {
   "cell_type": "markdown",
   "id": "467230a7",
   "metadata": {},
   "source": [
    "- Customers aren't getting documents like Mortgage documents in a timely manner(should've gotten within a day based on discussion but received them 3 days later after following up several times)\n",
    "    - Solution: Document upload within the app for timely retrieval but based on my research Scotiabank has a feature called e-Home-the online mortgage hub but it seems like the access to it is not intuitive. So would be great to add it to the app. I also spoke on call with financial advisor \n",
    "\n",
    "- customer had an issue with excess tax on a money transfer tried to discuss with a financial advisors then complained to branch manager which was ignored, 28 days went by with 0 solution to the problem\n",
    "    - Scotiabank should create an FAQ on money transfer option that leads to less tax deductions so customers can have better experience and don't have to deal with discrepancies between advices received.  \n",
    "       \n",
    "\n",
    "- customer wasn't able to open high interest savings account online without hassle, customer tried to open it in-person and customer was charged a fee for not having min balance of 5k CDN. Booked appointment with an advisor based on teller's advice, issue escalated to maanger who accused client for not listening to the teller. **customer closed account**\n",
    "    - Scotiabank does allow opening the HISA account online for both current and new users based on my research. I suppose the issue was encountered because the client card wasn't delivered to the user. Perhaps what Scotiabank can do is to send client message through app about their client card, so tehy can access services even when the card is not physically available to them.\n",
    "\n",
    "- customer received contradictory advice form several customer service providers at scotiabank about taking money from RESP to pay for their child's tuition. customer was required to make appointment with financial advisors to withdraw money from RESP but didn't receive any advice from them upon request. The customer financial advisor didn't show up to appointment and another advisor stepped in, and although they were nice in guiding the money wasn't transfered causing the customer to get behind in payments.\n",
    "    - Scotiabank should create an FAQ on money withdrawal from RESP so customers can have better experience and don't have to deal with discrepancies between advices received.\n",
    "    - They should also eliminate the process of having to see an advisor for every withdrawal. Perhaps they can require this for the first withdrawal and set a threshold and let the user transfer money between account with ease. If the threshold is exceeded then require the customer to book an appointment with a advisor.\n",
    "\n",
    "- customer sold major asset to reduce monthly mortgage payment as adviced by an advisor who said doing so will lower their monthly mortgage by $200-$300. The advisor who provided this advice was no longer working with Scotiabank upon their next appointment and had to deal with a new advisor who was new to the role. The way the new advisor dealt with it in a way that reduced only the payment term resulting in higher monthly mortgage payment.\n",
    "    - Solution: To ensure customers have better experience advisors should make a note in the system for the advice they have given to the customer and Scotiabank should have a guide for advisors on how to perform certain actions. So, even if anohter advisor takes over the customer can receive the best service and have their issue resolved.\n",
    "    \n",
    "- New customer was able to open savings account online but had to see an advisor to open checking account and encountered issues with that too and finally decided to close accounts but had trouble with that too. As the person was required to see an advisor to withdraw 25cents before closing the account. The customer reported having cards that went missing due to which they needed to created checking account on an urgent basis. Customer also had issue with 2FA.\n",
    "    - I am not sure how the client managed to open the savings account but had trouble with checking account. Seems like client only had credit card because client card would mean the client has checking account. We can dismiss this one as an anomaly.  \n",
    "      \n",
    "- current customer's interac transfer to SO got blocked without explanation, they had done this before without problems. They spoke with multiple advisors, and were sent on a wild goose chase to get an answer and had long wait times for a number they were finally suggested. The customer had to go in person to withdraw the money to give to SO and due to this issue and processing times the customer closed account\n",
    "    - we'll need to see what may have resulted in the block, cant really offer a solution until further investigation   \n",
    "      \n",
    "- customer got overcharged something visited the bank and was told to meet with a financial advisor the financial advisors werenèt available. And booking an appointment on phone was difficult.\n",
    "    - this review is from last year, I tried calling scotiabank to see if there is an automated option to book appointment via call. And on call I had to just press 4 for booking an appointment, then the machine said alternative ways to book the appointment like through website or app and then 1 minute later someone attended the call and asked me how they can help. \n",
    "      \n",
    "- loyal customer's (customer for decades) financial advisor was fired, had to fill forms for new financial advisor, then weeks later received a mail for missing estate info but it didnt specify what info is missing, made a call to book an appointment and had to wait for hour and there is no call back feature, the client is old but tech savy as they compare it with TD which has online booking the appointment feature to see an advisor. The customer also discussed having to answer a bunch of security questions just to book an appointment."
   ]
  },
  {
   "cell_type": "markdown",
   "id": "521a7332",
   "metadata": {},
   "source": [
    "# Research on Exisitng Product and Customer Reviews\n",
    "- I noticed that the solution we came up with is already implemented. So, I looked into potential issues with the current system to make recommendations on how to enhance the user expereince with financial advisors. \n",
    "    - I tried booking the appointment as new client of scotiabank using this website later asked group member to try it from app to see if the issue I found persists: https://www.scotiabank.com/ca/en/personal/investing/financial-advisor.html\n",
    "        - **These are my findings:*\n",
    "            - Based on reviews I found that people didn't get the right fit for advisors.\n",
    "            - Based on my experiement with the website it made sense because when I tried booking I was asked a few questions to match me with a advisor who has expereince in my area of need. It then asked me to select location and time for availability. It showed me the advisor picked for me at the end.\n",
    "            - I also tried to reschedule the appointment but there was no option for it, I had to cancel and then refill the form\n",
    "            - **To confirm my findings I asked my group member Emily who is Scotiabank user to fill the same form for booking appointment but with mobile app. She faced the same issues.**\n",
    "            - **I also found in reviews that people had issues with booking appointments, so I called Scotiabank Etobicoke location and asked to speak with an advisor** I explained to the advisor that it is for this hackathon. And that I find it strange that majority of the issues are complaining about issues with booking appointments when we have the service to match advisors and even can book with automated phone call option. He explained that the issue is that people don't have a choice when it booking from the website. And if they have found a preferred advisor to work with the website doesn't allow that it randomly books them with any advisor and so they have to call to book an appointment with the specified advisor.\n",
    "        - **Solution:** based on my initial assessment I suggested we have the option to pick our advisor and have the option to read their description. The group built onto this and suggested chat now feature with each advisor before booking. \n",
    "        - **Solution:** After speaking to the advisor I acquired better understanding about the review, and suggested we add the feature in future that allows user to make a advisor favourite for subcateogry of financial advisory service and next time be able to view their availability to book online\n",
    "        \n",
    "- **Issues I found strange in analysis and discussed with the advisor over call for clarity**\n",
    "    - So, in reviews users mentioned delays with mortgage documents, so I was researching and found \"e-home online mortgage hub\" service online. So, I asked the advisor if documents are uploaded on it and what kind of things are available on it. \n",
    "        - Advisor mentioned that it is mainly for mortgage pre-approval related things. \n",
    "        - Advisor also mentioned that the original documents are the documents that are usually mailed and it is just 1 document so it doesn't matter as such to make it online. However, users do have access to documents like annual mortgage statements. I also inquired about what could be the issue in terms of calls when users speak about it. He mentioned that the only times the user call a lot in relation to mortgages is when they need info about principal balance and interest deducted because user only see the total amount deducted from their account.\n",
    "    - Another thing I noticed from my review was that people reported that they had to make in person appointment with financial advisor to open the savings and checking account. I found this strange because I can see on Scotia bank website that it allows u to open an account. So I asked the same person, he said he doesnt deal with it in this role but when he used to (he has been with Scotiabnk for 2 years) ppl were able to open the account online but they had to come in person to very and activate the account. So I see an opportunity here to make this process online (verifying and activating by having the user to upload driver's license or passport online and a person can approve it online).\n",
    "    - And I also asked him that people reported difficulty in booking appointment with finacial advisors but i see on website that it matches them to the financial advisor based on location and availability. So, he said yes that's right but the only prob here is that they dont have the preference say if they were working with someone else and prefer that person they can't choose. And they have to call to make the appointment with the same person. So, I mentioned how we added the option to select advisor by chatting and he liked that. But what we have is for new appointments, so something else we can add is ability to add favorite financial advisor for ur subcategory of wealth management so next time you need to book you can view their availability and book the appointment with them online.\n"
   ]
  },
  {
   "cell_type": "markdown",
   "id": "76d54299",
   "metadata": {},
   "source": [
    "# Summary for Vision (Next Steps)\n",
    "The major issues based on the analysis of reviews and further look at the reviews based on filtering are as follows:\n",
    "- Discrepancy between advices received from the financial advisors (advisors had major count and most reviews suggested this)\n",
    "    - Solution: Collaboratively build internal FAQ for dealing with complex issues so all advisors are on the same page\n",
    "- New advisors taking over older ones upon their leave, leading to issues with Account Management (2 major examples of this are customer sold major asset to reduce monthly mortgage payments but new one reduce payment term, and another is estate asset mishandled by the new advisor that took over the customer's decades-long advisor)\n",
    "    - Solution: When old advisors leave they should do documentation about what they suggested the client to do and how they planned on handling it. So, whoever takes over is in the loop and is able to provide continued quality service.\n",
    "- Not receiving documents in a timely manner and long wait times on call\n",
    "    - Software solution: Secure document upload and download for timely access to documents\n",
    "    - Software Solution: Having info about interest deducted and principal balance available on website (spoke to mortgage advisor on call and discussed one of the reviews and e-home online mortgage hub, he mentioned customers mostly call about this info)\n",
    "- User experiencing challenges to book with preferred advisor user has expereince working with. (User has to make a phone call for this and goes through a series of security questions to answer just to book an appointment)\n",
    "    - Software Solution: allow user to save preferred advisor as favourite and view their availability to book an appointment"
   ]
  },
  {
   "cell_type": "code",
   "execution_count": null,
   "id": "9d6e8cca",
   "metadata": {},
   "outputs": [],
   "source": []
  }
 ],
 "metadata": {
  "kernelspec": {
   "display_name": "Python 3 (ipykernel)",
   "language": "python",
   "name": "python3"
  },
  "language_info": {
   "codemirror_mode": {
    "name": "ipython",
    "version": 3
   },
   "file_extension": ".py",
   "mimetype": "text/x-python",
   "name": "python",
   "nbconvert_exporter": "python",
   "pygments_lexer": "ipython3",
   "version": "3.9.18"
  },
  "toc": {
   "base_numbering": 1,
   "nav_menu": {},
   "number_sections": true,
   "sideBar": true,
   "skip_h1_title": false,
   "title_cell": "Table of Contents",
   "title_sidebar": "Contents",
   "toc_cell": false,
   "toc_position": {},
   "toc_section_display": true,
   "toc_window_display": false
  }
 },
 "nbformat": 4,
 "nbformat_minor": 5
}
